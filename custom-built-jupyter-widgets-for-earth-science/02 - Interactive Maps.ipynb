{
 "cells": [
  {
   "cell_type": "markdown",
   "metadata": {
    "slideshow": {
     "slide_type": "-"
    }
   },
   "source": [
    "# Overview\n",
    "\n",
    "This notebook demonstrates how to display Earth Engine generated tiles as both static images and on an interactive map."
   ]
  },
  {
   "cell_type": "markdown",
   "metadata": {},
   "source": [
    "# Initialize Earth Engine\n",
    "\n",
    "We start by importing the [Earth Engine Python API](https://pypi.org/project/earthengine-api/) module."
   ]
  },
  {
   "cell_type": "code",
   "execution_count": null,
   "metadata": {},
   "outputs": [],
   "source": [
    "import ee  # the Earth Engine Python API library"
   ]
  },
  {
   "cell_type": "markdown",
   "metadata": {},
   "source": [
    "The following command initializes the Earth Engine Python API."
   ]
  },
  {
   "cell_type": "code",
   "execution_count": null,
   "metadata": {},
   "outputs": [],
   "source": [
    "ee.Initialize()"
   ]
  },
  {
   "cell_type": "markdown",
   "metadata": {},
   "source": [
    "If the cell produces output that displays an error about needing to authenticate, open up the notebook entitled `01 - Setup auth credentials` and follow the instructions."
   ]
  },
  {
   "cell_type": "markdown",
   "metadata": {},
   "source": [
    "# Display a Static Map\n",
    "\n",
    "This section demonstrates how to obtain a static map image from \n",
    "Earth Engine, and display it in a notebook.\n",
    "\n",
    "The first step is to define an image object. This can be as simple as referencing an image stored in the [Earth Engine Public Data Catalog](https://earthengine.google.com/datasets/) or a computed image that includes several processing steps. The following example uses a reference to the [SRTM Digital Elevation Data 30m](https://explorer.earthengine.google.com/#detail/USGS%2FSRTMGL1_003) dataset."
   ]
  },
  {
   "cell_type": "code",
   "execution_count": null,
   "metadata": {},
   "outputs": [],
   "source": [
    "# Define an Earth Engine image object.\n",
    "image = ee.Image(\"USGS/SRTMGL1_003\")"
   ]
  },
  {
   "cell_type": "markdown",
   "metadata": {},
   "source": [
    "We then can use the [ee.Image.getThumbUrl](https://developers.google.com/earth-engine/api_docs#eeimagegetthumburl) method to construct a URL that will return an image file. "
   ]
  },
  {
   "cell_type": "code",
   "execution_count": null,
   "metadata": {},
   "outputs": [],
   "source": [
    "url = image.getThumbUrl({'min':0, 'max':3000})\n",
    "print(url)"
   ]
  },
  {
   "cell_type": "markdown",
   "metadata": {},
   "source": [
    "Next we use IPython's ability to load and display image files available from a URL (class [IPython.display.Image](https://ipython.org/ipython-doc/3/api/generated/IPython.display.html#IPython.display.Image))."
   ]
  },
  {
   "cell_type": "code",
   "execution_count": null,
   "metadata": {},
   "outputs": [],
   "source": [
    "from IPython.display import Image\n",
    "Image(url=url, embed=True, format='png')"
   ]
  },
  {
   "cell_type": "markdown",
   "metadata": {},
   "source": [
    "# Display a Dynamic Map"
   ]
  },
  {
   "cell_type": "markdown",
   "metadata": {},
   "source": [
    "To display an Earth Engine generated results on the interactive map, we can use [ipyleaflet](https://ipyleaflet.readthedocs.io/en/latest/index.html) and it's [ipyleaflet.TileLayer](https://ipyleaflet.readthedocs.io/en/latest/api_reference/tile_layer.html) class."
   ]
  },
  {
   "cell_type": "code",
   "execution_count": null,
   "metadata": {},
   "outputs": [],
   "source": [
    "import ipyleaflet  # an interactive mapping \"widget\" for the notebook"
   ]
  },
  {
   "cell_type": "markdown",
   "metadata": {},
   "source": [
    "## Displaying a basic interactive map\n",
    "\n",
    "With ipyleaflet, we can easily create a map and display it in the notebook."
   ]
  },
  {
   "cell_type": "code",
   "execution_count": null,
   "metadata": {},
   "outputs": [],
   "source": [
    "map1 = ipyleaflet.Map(\n",
    "    center=(48.2, 16.3), zoom=4,\n",
    "    layout={'height':'200px'},\n",
    ")\n",
    "map1"
   ]
  },
  {
   "cell_type": "markdown",
   "metadata": {},
   "source": [
    "If you don't like the default background tiles, you can specify a different basemap."
   ]
  },
  {
   "cell_type": "code",
   "execution_count": null,
   "metadata": {},
   "outputs": [],
   "source": [
    "map2 = ipyleaflet.Map(\n",
    "    center=(48.2, 16.3), zoom=4,\n",
    "    layout={'height':'200px'},\n",
    "    basemap=ipyleaflet.basemaps.Stamen.Terrain\n",
    ")\n",
    "map2"
   ]
  },
  {
   "cell_type": "markdown",
   "metadata": {},
   "source": [
    "## Adding Earth Engine generated overlays\n",
    "\n",
    "First we start by defining a function that takes an Earth Engine image object, and generates a tile layer URL that ipyleaflet can utilize."
   ]
  },
  {
   "cell_type": "code",
   "execution_count": null,
   "metadata": {},
   "outputs": [],
   "source": [
    "def GetTileLayerUrl(ee_image_object):\n",
    "  map_id = ee.Image(ee_image_object).getMapId()\n",
    "  tile_url_template = \"https://earthengine.googleapis.com/map/{mapid}/{{z}}/{{x}}/{{y}}?token={token}\"\n",
    "  return tile_url_template.format(**map_id)"
   ]
  },
  {
   "cell_type": "markdown",
   "metadata": {},
   "source": [
    "Next we define a collection of imagery that we want to display. The following creates a collection of imagery from the [Sentinel-2](https://explorer.earthengine.google.com/#detail/COPERNICUS%2FS2) satellite, filtered to a single day."
   ]
  },
  {
   "cell_type": "code",
   "execution_count": null,
   "metadata": {},
   "outputs": [],
   "source": [
    "s2 = ee.ImageCollection('COPERNICUS/S2').filterDate('2018-01-01', '2018-01-02')"
   ]
  },
  {
   "cell_type": "markdown",
   "metadata": {},
   "source": [
    "We then can create a tile layer that displays the Sentinel-2 data, and add it to the map."
   ]
  },
  {
   "cell_type": "code",
   "execution_count": null,
   "metadata": {},
   "outputs": [],
   "source": [
    "sentinel2_tilelayer = ipyleaflet.TileLayer(\n",
    "    name='Sentinel 2',\n",
    "    url=GetTileLayerUrl(\n",
    "        s2.median().visualize(\n",
    "            min=0,\n",
    "            max=3000,\n",
    "            gamma=1.5,\n",
    "            bands= ['B4', 'B3', 'B2']\n",
    "        )\n",
    "    ),\n",
    "    attribution='Map tiles by <a href=\"http://earthengine.google.com/\">Earth Engine</a>.'\n",
    ")\n",
    "map2.add_layer(sentinel2_tilelayer)"
   ]
  },
  {
   "cell_type": "markdown",
   "metadata": {},
   "source": [
    "We can also add a layer control to our map, the will allow us to toggle the visibility of layers."
   ]
  },
  {
   "cell_type": "code",
   "execution_count": null,
   "metadata": {},
   "outputs": [],
   "source": [
    "# Adding the layers control to the map.\n",
    "map2.add_control(ipyleaflet.LayersControl())"
   ]
  },
  {
   "cell_type": "markdown",
   "metadata": {},
   "source": [
    "The preceding code block did add a layer to a map, but it is a little cumbersome to see because the map was displayed earlier in the notebook and may now be off the screen. If we want, we can display the map in the notebook a second time..."
   ]
  },
  {
   "cell_type": "code",
   "execution_count": null,
   "metadata": {},
   "outputs": [],
   "source": [
    "map2"
   ]
  },
  {
   "cell_type": "markdown",
   "metadata": {},
   "source": [
    "However, this second map will eventually scroll off the screen as well. Fortunately, there a few ways to keep the output in view when using JupyterLab.\n",
    "\n",
    "The first method is to open a new content tab that just displays just the cell output. To do this, right-click (or ctrl-click) on the map output (or the code cell that displays the output). In the context menu that appears, select the *\"Create New View for Output\"* menu item. This will open a new JupyterLab tab below the current tab. Like all JupyterLab tabs, you can resize and rearrange the tabs as needed. The downside of this method is that you need to manually open the new view."
   ]
  },
  {
   "cell_type": "markdown",
   "metadata": {},
   "source": [
    "# Linking Map Events\n",
    "\n",
    "Often it is useful to synchronise the behavior of multiple maps. Because ipywidget maps are a specialized type of Jupyter widget, synchronization can be accomplished using the general [linking widgets](http://ipywidgets.readthedocs.io/en/latest/examples/Widget%20Events.html#Linking-Widgets) approach.\n",
    "\n"
   ]
  },
  {
   "cell_type": "code",
   "execution_count": null,
   "metadata": {},
   "outputs": [],
   "source": [
    "import ipywidgets\n",
    "map_zoom_link = ipywidgets.link((map1, 'zoom'), (map2, 'zoom'))\n",
    "map_center_link = ipywidgets.link((map1, 'center'), (map2, 'center'))"
   ]
  },
  {
   "cell_type": "markdown",
   "metadata": {},
   "source": [
    "# Split Map Example\n",
    "\n",
    "The following example shows how to create a map with a splitter control."
   ]
  },
  {
   "cell_type": "code",
   "execution_count": null,
   "metadata": {},
   "outputs": [],
   "source": [
    "map3 = ipyleaflet.Map(\n",
    "    center=(48.2, 16.3), zoom=4,\n",
    "    layout={'height':'500px'},\n",
    ")\n",
    "\n",
    "left = ipyleaflet.TileLayer(url='https://cartodb-basemaps-{s}.global.ssl.fastly.net/light_all/{z}/{x}/{y}.png')\n",
    "control = ipyleaflet.SplitMapControl(left_layer=left, right_layer=sentinel2_tilelayer)\n",
    "map3.add_control(control)\n",
    "map3"
   ]
  },
  {
   "cell_type": "code",
   "execution_count": null,
   "metadata": {},
   "outputs": [],
   "source": []
  }
 ],
 "metadata": {
  "kernelspec": {
   "display_name": "Python [default]",
   "language": "python",
   "name": "python3"
  },
  "language_info": {
   "codemirror_mode": {
    "name": "ipython",
    "version": 3
   },
   "file_extension": ".py",
   "mimetype": "text/x-python",
   "name": "python",
   "nbconvert_exporter": "python",
   "pygments_lexer": "ipython3",
   "version": "3.6.5"
  }
 },
 "nbformat": 4,
 "nbformat_minor": 2
}
