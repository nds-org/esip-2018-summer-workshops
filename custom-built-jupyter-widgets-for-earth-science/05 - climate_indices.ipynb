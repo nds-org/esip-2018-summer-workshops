{
 "cells": [
  {
   "cell_type": "code",
   "execution_count": null,
   "metadata": {},
   "outputs": [],
   "source": [
    "import bqplot\n",
    "import datetime\n",
    "import dateutil\n",
    "import ipywidgets\n",
    "import ipyleaflet\n",
    "import IPython.display\n",
    "import pandas as pd"
   ]
  },
  {
   "cell_type": "code",
   "execution_count": null,
   "metadata": {},
   "outputs": [],
   "source": [
    "import ee\n",
    "\n",
    "ee.Initialize()"
   ]
  },
  {
   "cell_type": "markdown",
   "metadata": {},
   "source": [
    "# Helper functions."
   ]
  },
  {
   "cell_type": "code",
   "execution_count": null,
   "metadata": {},
   "outputs": [],
   "source": [
    "\"\"\"Get a ipyleaflet compatible Tile Layer URL from an Earth Engine Image object.\"\"\"\n",
    "def GetTileLayerUrl(ee_image_object):\n",
    "  map_id = ee.Image(ee_image_object).getMapId()\n",
    "  tile_url_template = \"https://earthengine.googleapis.com/map/{mapid}/{{z}}/{{x}}/{{y}}?token={token}\"\n",
    "  return tile_url_template.format(**map_id)"
   ]
  },
  {
   "cell_type": "markdown",
   "metadata": {},
   "source": [
    "## ETCCDI Index #1 - Number of frost days (FD)\n",
    "\n",
    "Annual count of days when the daily minimum temperature is below zero.\n",
    "\n",
    "\\begin{equation*}\n",
    "FD_j = \\sum_{i} TN_{ij}, \\quad\\text{if } TN_{ij} < 0^oC\\label{a}\\tag{1}\n",
    "\\end{equation*}\n",
    "\n",
    "where $TN_{ij}$ is the daily minimum temperature on day $i$ in year $j$."
   ]
  },
  {
   "cell_type": "code",
   "execution_count": null,
   "metadata": {},
   "outputs": [],
   "source": [
    "def AddFrostDayBand(img):\n",
    "    frost_day = img.select('tasmin').lt(273.15 + 0).rename('is_FD')\n",
    "    return img.addBands(frost_day)"
   ]
  },
  {
   "cell_type": "markdown",
   "metadata": {},
   "source": [
    "Create a reference to the NEX-GDDP dataset."
   ]
  },
  {
   "cell_type": "code",
   "execution_count": null,
   "metadata": {},
   "outputs": [],
   "source": [
    "gddp = ee.ImageCollection('NASA/NEX-GDDP')"
   ]
  },
  {
   "cell_type": "markdown",
   "metadata": {},
   "source": [
    "Apply (map) the function to every image in the GDDP dataset."
   ]
  },
  {
   "cell_type": "code",
   "execution_count": null,
   "metadata": {},
   "outputs": [],
   "source": [
    "gddp = gddp.map(AddFrostDayBand)"
   ]
  },
  {
   "cell_type": "markdown",
   "metadata": {},
   "source": [
    "Tally up the Frost Days for a given scenario, model, and year."
   ]
  },
  {
   "cell_type": "code",
   "execution_count": null,
   "metadata": {},
   "outputs": [],
   "source": [
    "frost_day_count = (gddp.select('is_FD')\n",
    "    .filterMetadata('model', 'equals', 'CCSM4')\n",
    "    .filterMetadata('scenario', 'equals', 'rcp45')\n",
    "    .filterMetadata('year', 'equals', 2050)\n",
    ").sum().uint16()"
   ]
  },
  {
   "cell_type": "markdown",
   "metadata": {},
   "source": [
    "Plot results on an interactive map."
   ]
  },
  {
   "cell_type": "code",
   "execution_count": null,
   "metadata": {},
   "outputs": [],
   "source": [
    "map1 = ipyleaflet.Map(zoom=1, layout={'height':'300px'})\n",
    "tile_url = GetTileLayerUrl(frost_day_count.visualize(min=0, max=365, bands= ['is_FD'], palette=['black', 'white']))\n",
    "map1.add_layer(ipyleaflet.TileLayer(url=tile_url))\n",
    "map1"
   ]
  },
  {
   "cell_type": "markdown",
   "metadata": {},
   "source": [
    "# Interactive Viewer"
   ]
  },
  {
   "cell_type": "code",
   "execution_count": null,
   "metadata": {},
   "outputs": [],
   "source": [
    "etccdi = ee.ImageCollection('users/tylere/ETCCDI/test3')"
   ]
  },
  {
   "cell_type": "code",
   "execution_count": null,
   "metadata": {},
   "outputs": [],
   "source": [
    "model_list = [\n",
    "    'ACCESS1-0',\n",
    "    'BNU-ESM',\n",
    "    'CCSM4',\n",
    "    'CESM1-BGC',\n",
    "    'CNRM-CM5',\n",
    "    'CSIRO-Mk3-6-0',\n",
    "    'CanESM2',\n",
    "    'GFDL-CM3',\n",
    "    'GFDL-ESM2G',\n",
    "    'GFDL-ESM2M',\n",
    "    'IPSL-CM5A-LR',\n",
    "    'IPSL-CM5A-MR',\n",
    "    'MIROC-ESM',\n",
    "    'MIROC-ESM-CHEM',\n",
    "    'MIROC5',\n",
    "    'MPI-ESM-LR',\n",
    "    'MPI-ESM-MR',\n",
    "    'MRI-CGCM3',\n",
    "    'NorESM1-M',\n",
    "    'bcc-csm1-1',\n",
    "    'inmcm4',\n",
    "]\n",
    "scenario_list = [\n",
    "    'rcp45',\n",
    "    'rcp85'\n",
    "]"
   ]
  },
  {
   "cell_type": "code",
   "execution_count": null,
   "metadata": {},
   "outputs": [],
   "source": [
    "# Define a annual count colormap.  \n",
    "# #B3DE8E\n",
    "sld = '''\n",
    "<RasterSymbolizer>\\\n",
    "  <ChannelSelection>\\\n",
    "    <GrayChannel>\\\n",
    "      <SourceChannelName>FD</SourceChannelName>\\\n",
    "    </GrayChannel>\\\n",
    "  </ChannelSelection>\\\n",
    "  <ColorMap>\\\n",
    "    <ColorMapEntry color=\"#000000\" quantity=\"0\" />\\\n",
    "    <ColorMapEntry color=\"#F99B9B\" quantity=\"10\" />\\\n",
    "    <ColorMapEntry color=\"#389F34\" quantity=\"200\" />\\\n",
    "    <ColorMapEntry color=\"#A7CEE2\" quantity=\"300\" />\\\n",
    "    <ColorMapEntry color=\"#FFFFFF\" quantity=\"365\" />\\\n",
    "  </ColorMap>\\\n",
    "</RasterSymbolizer>\n",
    "'''\n",
    "legend = ipywidgets.HTML('''\n",
    "    <form>\n",
    "     <fieldset>\n",
    "      <legend>Count:</legend>\n",
    "      <pre style=\"text-align:center;background-color:#000000;color:white\">0</pre>\n",
    "      <pre style=\"text-align:center;background-color:#F99B9B\">100</pre>\n",
    "      <pre style=\"text-align:center;background-color:#389F34\">200</pre>\n",
    "      <pre style=\"text-align:center;background-color:#A7CEE2\">300</pre>\n",
    "      <pre style=\"text-align:center;background-color:#FFFFFF\">365</pre>\n",
    "     </fieldset>\n",
    "    </form>\n",
    "    ''',\n",
    "    layout=ipywidgets.Layout(width='100px')\n",
    ")"
   ]
  },
  {
   "cell_type": "code",
   "execution_count": null,
   "metadata": {},
   "outputs": [],
   "source": [
    "debug_panel = ipywidgets.HTML('')"
   ]
  },
  {
   "cell_type": "code",
   "execution_count": null,
   "metadata": {},
   "outputs": [],
   "source": [
    "def GetDataFrame(coords):\n",
    "    \n",
    "    param = 'FD'\n",
    "    pnt = ee.Geometry.Point(coords)\n",
    "    # Sample for a time series of values at the point.    \n",
    "    geom_values = (etccdi\n",
    "        .select(param)\n",
    "        .filterMetadata('model', 'equals', model_select.value)\n",
    "        .filterMetadata('scenario', 'equals', scenario_select.value)\n",
    "        .getRegion(geometry=pnt, scale=10000)\n",
    "    )\n",
    "    geom_values_list = ee.List(geom_values).getInfo()\n",
    "    # Convert to a Pandas DataFrame.\n",
    "    header = geom_values_list[0]\n",
    "    data = pd.DataFrame(geom_values_list[1:], columns=header)\n",
    "    data['datetime'] = pd.to_datetime(data['time'], unit='ms', utc=True)\n",
    "    data.set_index('time')\n",
    "    data = data.sort_values('datetime')\n",
    "    data = data[['datetime', param]]\n",
    "    return data"
   ]
  },
  {
   "cell_type": "code",
   "execution_count": null,
   "metadata": {},
   "outputs": [],
   "source": [
    "# Plot scales.\n",
    "lc1_x = bqplot.DateScale(min=datetime.date(2001, 1, 1), max=datetime.date(2100, 1, 1))\n",
    "lc2_y = bqplot.LinearScale()\n",
    "\n",
    "# Plot type (mark).\n",
    "lc2 = bqplot.Lines(\n",
    "    x=[],\n",
    "    y=[],\n",
    "    scales={'x': lc1_x, 'y': lc2_y}, \n",
    "    display_legend=True,\n",
    ")\n",
    "\n",
    "# Plot axes.\n",
    "x_ax1 = bqplot.Axis(label='Date', scale=lc1_x, num_ticks = 6, tick_format='%Y')\n",
    "x_ay2 = bqplot.Axis(label='Freezing Days', scale=lc2_y, orientation='vertical')\n",
    "\n",
    "# Declare the plot interactions.\n",
    "br_intsel = bqplot.interacts.BrushIntervalSelector(scale=lc1_x, marks=[lc2])\n",
    "\n",
    "# Create a figure.\n",
    "fig = bqplot.Figure(\n",
    "    marks=[lc2],\n",
    "    axes=[x_ax1, x_ay2],\n",
    "    layout={'height':'250px', 'width':'600px'},\n",
    "    interaction=br_intsel\n",
    ")\n",
    "\n",
    "# Create a map widget with a drawing control.\n",
    "map5 = ipyleaflet.Map(zoom=2, layout={'height':'270px', 'width':'600px'})\n",
    "dc = ipyleaflet.DrawControl(polyline={}, polygon={})\n",
    "map5.add_control(dc)\n",
    "\n",
    "scenario_select = ipywidgets.Dropdown(\n",
    "    options=scenario_list,\n",
    "    description='Scenario:',\n",
    "    disabled=False,\n",
    "    layout=ipywidgets.Layout(width='250px')\n",
    ")\n",
    "\n",
    "model_select = ipywidgets.Dropdown(\n",
    "    options=model_list,\n",
    "    description='Model:',\n",
    "    disabled=False,\n",
    "    layout=ipywidgets.Layout(width='250px')\n",
    ")\n",
    "\n",
    "int_start_dp = ipywidgets.DatePicker(\n",
    "    description='Start Date',\n",
    "    disabled=True,\n",
    "    layout=ipywidgets.Layout(width='250px')\n",
    ")\n",
    "int_end_dp = ipywidgets.DatePicker(\n",
    "    description='End Date',\n",
    "    disabled=True,\n",
    "    layout=ipywidgets.Layout(width='250px')\n",
    ")\n",
    "\n",
    "# Create the event handlers for the map and plot.\n",
    "def handle_draw(self, action, geo_json):\n",
    "    # Get the selected coordinates from the map's drawing control.\n",
    "    coords = geo_json['geometry']['coordinates']\n",
    "    update_time_series()\n",
    "dc.on_draw(handle_draw)\n",
    "\n",
    "def ReplaceOverlayLayers(map_object, ee_image_object):\n",
    "    for lyr in map_object.layers[1:]:\n",
    "        map_object.remove_layer(lyr)\n",
    "    tile_url = GetTileLayerUrl(ee_image_object)\n",
    "    map_object.add_layer(ipyleaflet.TileLayer(url=tile_url))\n",
    "\n",
    "def update_map():\n",
    "    # Update the layer displayed on the map.\n",
    "    filtered = (\n",
    "        etccdi\n",
    "            .select('FD')\n",
    "            .filterMetadata('model', 'equals', model_select.value)\n",
    "            .filterMetadata('scenario', 'equals', scenario_select.value)\n",
    "            .filterDate(int_start_dp.value.isoformat(), int_end_dp.value.isoformat())\n",
    "            .mean()\n",
    "            .sldStyle(sld)\n",
    "    )\n",
    "    ReplaceOverlayLayers(map5, filtered)\n",
    "\n",
    "def update_time_series():\n",
    "    \n",
    "    coords = dc.last_draw['geometry']['coordinates']\n",
    "    new_df = GetDataFrame(coords)\n",
    "    \n",
    "    # Updatre the time series.\n",
    "    lc2.x = new_df['datetime']\n",
    "    lc2.y = new_df['FD']\n",
    "    \n",
    "    (t1_start, t1_end) = br_intsel.selected\n",
    "    start_datetime = dateutil.parser.parse(t1_start)\n",
    "    end_datetime = dateutil.parser.parse(t1_end)\n",
    "    int_start_dp.value = start_datetime\n",
    "    int_end_dp.value = end_datetime\n",
    "    \n",
    "def on_model_value_change(change):\n",
    "    update_map()\n",
    "    update_time_series()\n",
    "model_select.observe(on_model_value_change, names='value')\n",
    "\n",
    "def on_scenario_value_change(change):\n",
    "    update_map()\n",
    "    update_time_series()\n",
    "scenario_select.observe(on_scenario_value_change, names='value')\n",
    "\n",
    "def brush_selection_callback(change):\n",
    "    update_time_series()\n",
    "    update_map()\n",
    "br_intsel.observe(brush_selection_callback, names=['selected'])\n",
    "\n",
    "# Display the widgets.\n",
    "space_time_viewer = ipywidgets.VBox(\n",
    "    [\n",
    "        ipywidgets.HBox([map5, legend]),\n",
    "        ipywidgets.HBox(\n",
    "            [\n",
    "                fig,\n",
    "                ipywidgets.VBox([\n",
    "                    scenario_select,\n",
    "                    model_select,\n",
    "                    int_start_dp,\n",
    "                    int_end_dp,\n",
    "                    debug_panel\n",
    "                ])\n",
    "            ], layout=ipywidgets.Layout(align_content='center')\n",
    "        ),\n",
    "    ],\n",
    "    align_self='stretch'\n",
    ")"
   ]
  },
  {
   "cell_type": "code",
   "execution_count": null,
   "metadata": {},
   "outputs": [],
   "source": [
    "space_time_viewer"
   ]
  },
  {
   "cell_type": "code",
   "execution_count": null,
   "metadata": {},
   "outputs": [],
   "source": []
  }
 ],
 "metadata": {
  "kernelspec": {
   "display_name": "Python 3",
   "language": "python",
   "name": "python3"
  },
  "language_info": {
   "codemirror_mode": {
    "name": "ipython",
    "version": 3
   },
   "file_extension": ".py",
   "mimetype": "text/x-python",
   "name": "python",
   "nbconvert_exporter": "python",
   "pygments_lexer": "ipython3",
   "version": "3.6.3"
  }
 },
 "nbformat": 4,
 "nbformat_minor": 2
}
