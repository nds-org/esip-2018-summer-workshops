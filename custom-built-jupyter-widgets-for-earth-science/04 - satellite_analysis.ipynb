{
 "cells": [
  {
   "cell_type": "markdown",
   "metadata": {},
   "source": [
    "# Initial Setup."
   ]
  },
  {
   "cell_type": "code",
   "execution_count": null,
   "metadata": {},
   "outputs": [],
   "source": [
    "import bqplot\n",
    "import datetime\n",
    "import dateutil.parser\n",
    "import ee\n",
    "import ipywidgets\n",
    "import IPython.display\n",
    "import numpy as np\n",
    "import pprint\n",
    "import pandas as pd\n",
    "import traitlets\n",
    "\n",
    "# Configure the pretty printing output.\n",
    "pp = pprint.PrettyPrinter(depth=4)"
   ]
  },
  {
   "cell_type": "code",
   "execution_count": null,
   "metadata": {},
   "outputs": [],
   "source": [
    "# Authenticate to the Earth Engine servers, and initialize the ee module.\n",
    "ee.Initialize()"
   ]
  },
  {
   "cell_type": "markdown",
   "metadata": {},
   "source": [
    "# Displaying a simple, static image."
   ]
  },
  {
   "cell_type": "markdown",
   "metadata": {},
   "source": [
    "To start, let's work with a Landsat 8 image collection which has been processed to surface reflectance values (i.e. the processing has attempted to remove the atmospheric effects). You can find information on this collection by searching for \"landsat 8 collection 1 SR\" in the Earth Engine [Public Data Catalog](https://explorer.earthengine.google.com/#index), or by going directly to the [USGS Landsat 8 Surface Reflectance](https://explorer.earthengine.google.com/#detail/LANDSAT%2FLC08%2FC01%2FT1_SR) data description page.\n",
    "\n",
    "The Data Description page contains the **Image ID** value *LANDSAT/LC08/C01/T1_SR*, a key piece of information that we will use in our Python code to refer to the asset."
   ]
  },
  {
   "cell_type": "code",
   "execution_count": null,
   "metadata": {},
   "outputs": [],
   "source": [
    "l8sr = ee.ImageCollection('LANDSAT/LC08/C01/T1_SR')"
   ]
  },
  {
   "cell_type": "markdown",
   "metadata": {},
   "source": [
    "Let's count how many images are in this collection."
   ]
  },
  {
   "cell_type": "code",
   "execution_count": null,
   "metadata": {},
   "outputs": [],
   "source": [
    "# Uncomment the following line to count the images in the collection.\n",
    "#print(l8sr.size().getInfo())"
   ]
  },
  {
   "cell_type": "markdown",
   "metadata": {},
   "source": [
    "To display a single image, we can filter the collection down to a single image, and can request a \"thumbnail\"  URL for the scene."
   ]
  },
  {
   "cell_type": "markdown",
   "metadata": {},
   "source": [
    "## Get the image's band names and store them in a variable."
   ]
  },
  {
   "cell_type": "code",
   "execution_count": null,
   "metadata": {},
   "outputs": [],
   "source": [
    "sample_image = ee.Image(\n",
    "    l8sr.filterDate('2017-11-01', '2017-12-02')\n",
    "        .filterBounds(ee.Geometry.Point(-73.9957, 40.7262))\n",
    "        .first()\n",
    ")\n",
    "band_names_original = sample_image.bandNames()\n",
    "band_names_original.getInfo()"
   ]
  },
  {
   "cell_type": "markdown",
   "metadata": {},
   "source": [
    "## Rename the image bands, so they are easier to read."
   ]
  },
  {
   "cell_type": "code",
   "execution_count": null,
   "metadata": {},
   "outputs": [],
   "source": [
    "l8_bands = ee.Dictionary({\n",
    "    'B1': 'ultra_blue',\n",
    "    'B2': 'blue',\n",
    "    'B3': 'green',\n",
    "    'B4': 'red',\n",
    "    'B5': 'nir',\n",
    "    'B6': 'swir_1',\n",
    "    'B7': 'swir_2',\n",
    "    'B8': 'pan',\n",
    "    'B9': 'cirrus',\n",
    "    'B10': 'tirs_1',\n",
    "    'B11': 'tirs_2',\n",
    "    'sr_aerosol': 'sr_aerosol', \n",
    "    'pixel_qa': 'pixel_qa',\n",
    "    'radsat_qa': 'radsat_qa'\n",
    "})\n",
    "band_names_new = l8_bands.values(sample_image.bandNames())\n",
    "l8sr = l8sr.select(band_names_original, band_names_new)"
   ]
  },
  {
   "cell_type": "markdown",
   "metadata": {},
   "source": [
    "## Print out a sample image's metadata."
   ]
  },
  {
   "cell_type": "code",
   "execution_count": null,
   "metadata": {},
   "outputs": [],
   "source": [
    "sample_image = ee.Image(\n",
    "    l8sr.filterDate('2017-11-10', '2017-12-01')\n",
    "        .filterBounds(ee.Geometry.Point(-73.9957, 40.7262))\n",
    "        .first()\n",
    ")\n",
    "pp.pprint(sample_image.getInfo())"
   ]
  },
  {
   "cell_type": "markdown",
   "metadata": {},
   "source": [
    "We can request a \"thumbnail\" URL for the scene."
   ]
  },
  {
   "cell_type": "code",
   "execution_count": null,
   "metadata": {},
   "outputs": [],
   "source": [
    "thumbnail_url = sample_image.getThumbUrl({\n",
    "    'bands': 'red,green,blue',\n",
    "    'min': 0,\n",
    "    'max': 3000,\n",
    "    'region': sample_image.geometry().bounds().getInfo()\n",
    "})\n",
    "IPython.display.HTML('Thumbnail URL: <a href={0}>{0}</a>'.format(thumbnail_url))"
   ]
  },
  {
   "cell_type": "markdown",
   "metadata": {},
   "source": [
    "The image can be displayed within the notebook, using the *IPython.display.Image()* method."
   ]
  },
  {
   "cell_type": "code",
   "execution_count": null,
   "metadata": {},
   "outputs": [],
   "source": [
    "IPython.display.Image(url=thumbnail_url)"
   ]
  },
  {
   "cell_type": "markdown",
   "metadata": {},
   "source": [
    "A nice image, but not very interactive."
   ]
  },
  {
   "cell_type": "markdown",
   "metadata": {},
   "source": [
    "# Interactive Mapping"
   ]
  },
  {
   "cell_type": "markdown",
   "metadata": {},
   "source": [
    "The ipyleaflet package can be used to display interactive maps. Here is a basic example:"
   ]
  },
  {
   "cell_type": "code",
   "execution_count": null,
   "metadata": {
    "scrolled": true
   },
   "outputs": [],
   "source": [
    "import ipyleaflet\n",
    "map1 = ipyleaflet.Map(zoom=3, layout={'height':'400px'})\n",
    "dc = ipyleaflet.DrawControl()\n",
    "map1.add_control(dc)\n",
    "map1"
   ]
  },
  {
   "cell_type": "code",
   "execution_count": null,
   "metadata": {},
   "outputs": [],
   "source": [
    "# Get information from the map's drawing control.\n",
    "dc.last_draw"
   ]
  },
  {
   "cell_type": "markdown",
   "metadata": {},
   "source": [
    "To display an Earth Engine generated image on the interactive map, we can use ipyleaflet's TileLayer object. First we start by defining a function that can generate a tile layer URL from an Earth Engine image object."
   ]
  },
  {
   "cell_type": "code",
   "execution_count": null,
   "metadata": {},
   "outputs": [],
   "source": [
    "def GetTileLayerUrl(ee_image_object):\n",
    "  map_id = ee.Image(ee_image_object).getMapId()\n",
    "  tile_url_template = \"https://earthengine.googleapis.com/map/{mapid}/{{z}}/{{x}}/{{y}}?token={token}\"\n",
    "  return tile_url_template.format(**map_id)"
   ]
  },
  {
   "cell_type": "code",
   "execution_count": null,
   "metadata": {},
   "outputs": [],
   "source": [
    "# Style the image.\n",
    "tile_url = GetTileLayerUrl(sample_image.visualize(min=0, max=3000, gamma=1.5, bands= ['red', 'green', 'blue']))\n",
    "map1.add_layer(ipyleaflet.TileLayer(url=tile_url))"
   ]
  },
  {
   "cell_type": "markdown",
   "metadata": {},
   "source": [
    "Lets redefine our sample, expanding the date range and getting rid of out geometry filters."
   ]
  },
  {
   "cell_type": "code",
   "execution_count": null,
   "metadata": {},
   "outputs": [],
   "source": [
    "map2 = ipyleaflet.Map(zoom=3, layout={'height':'400px'})\n",
    "map2"
   ]
  },
  {
   "cell_type": "code",
   "execution_count": null,
   "metadata": {},
   "outputs": [],
   "source": [
    "def ReplaceOverlayLayers(map_object, ee_image_object):\n",
    "    for lyr in map_object.layers[1:]:\n",
    "        map_object.remove_layer(lyr)\n",
    "    tile_url = GetTileLayerUrl(ee_image_object)\n",
    "    map_object.add_layer(ipyleaflet.TileLayer(url=tile_url))\n",
    "        \n",
    "filtered = (\n",
    "    l8sr.filterDate('2016-01-01', '2016-02-02')\n",
    "         .median()\n",
    "#         .mean()\n",
    "#         .max()\n",
    "#         .min()\n",
    "#        .reduce(ee.Reducer.percentile([25])).rename(band_names_new)\n",
    "        .visualize(min=0, max=3000, bands=['red', 'green', 'blue'])\n",
    ")\n",
    "ReplaceOverlayLayers(map2, filtered)"
   ]
  },
  {
   "cell_type": "markdown",
   "metadata": {},
   "source": [
    "# Calculate a Spectral Index (NDVI)"
   ]
  },
  {
   "cell_type": "code",
   "execution_count": null,
   "metadata": {},
   "outputs": [],
   "source": [
    "IPython.display.Image(url='https://landsat.usgs.gov/sites/default/files/images/LandsatSpectralBands_20160801.jpg')"
   ]
  },
  {
   "cell_type": "markdown",
   "metadata": {},
   "source": [
    "The normalized difference vegetation index ($NDVI$) is a band ratio that is related to the amount of green vegetation. \n",
    "\n",
    "\\begin{equation*}\n",
    "NDVI = \\frac{NIR — RED}{NIR + RED} = \\frac{Band5 — Band4}{Band5 + Band4}\n",
    "\\end{equation*}\n",
    "\n",
    "where $NIR$ is the near infrared band and $RED$ is red band."
   ]
  },
  {
   "cell_type": "markdown",
   "metadata": {},
   "source": [
    "## Write a function to add an NDVI band to an image."
   ]
  },
  {
   "cell_type": "code",
   "execution_count": null,
   "metadata": {},
   "outputs": [],
   "source": [
    "def AddBandNDVI(img):\n",
    "    red = img.select('red')\n",
    "    nir = img.select('nir')\n",
    "    ndvi = (nir.subtract(red)).divide(nir.add(red)).rename('ndvi')\n",
    "    return img.addBands(ndvi)\n",
    "\n",
    "l8sr = l8sr.map(AddBandNDVI)"
   ]
  },
  {
   "cell_type": "code",
   "execution_count": null,
   "metadata": {},
   "outputs": [],
   "source": [
    "# Define a NDVI colormap.\n",
    "sld_ndvi = '''\n",
    "<RasterSymbolizer>\\\n",
    "  <ChannelSelection>\\\n",
    "    <GrayChannel>\\\n",
    "      <SourceChannelName>ndvi</SourceChannelName>\\\n",
    "    </GrayChannel>\\\n",
    "  </ChannelSelection>\\\n",
    "  <ColorMap>\\\n",
    "    <ColorMapEntry color=\"#000000\" quantity=\"0.0\" />\\\n",
    "    <ColorMapEntry color=\"#BFBD27\" quantity=\"0.1\" />\\\n",
    "    <ColorMapEntry color=\"#1EBFBE\" quantity=\"0.3\" />\\\n",
    "    <ColorMapEntry color=\"#29FD2F\" quantity=\"0.5\" />\\\n",
    "    <ColorMapEntry color=\"#1CBD20\" quantity=\"0.7\" />\\\n",
    "    <ColorMapEntry color=\"#0F7E12\" quantity=\"0.9\" />\\\n",
    "  </ColorMap>\\\n",
    "</RasterSymbolizer>\n",
    "'''\n",
    "ndvi_legend = ipywidgets.HTML('''\n",
    "<form>\n",
    " <fieldset>\n",
    "  <legend>NDVI:</legend>\n",
    "  <pre style=\"text-align:center;background-color:#777777;color:white\">0.0</pre>\n",
    "  <pre style=\"text-align:center;background-color:#BFBD27\">0.1</pre>\n",
    "  <pre style=\"text-align:center;background-color:#1EBFBE\">0.3</pre>\n",
    "  <pre style=\"text-align:center;background-color:#29FD2F\">0.5</pre>\n",
    "  <pre style=\"text-align:center;background-color:#1CBD20\">0.7</pre>\n",
    "  <pre style=\"text-align:center;background-color:#0F7E12\">0.9</pre>\n",
    " </fieldset>\n",
    "</form>\n",
    "''',\n",
    "layout=ipywidgets.Layout(width='100px'))"
   ]
  },
  {
   "cell_type": "code",
   "execution_count": null,
   "metadata": {},
   "outputs": [],
   "source": []
  },
  {
   "cell_type": "code",
   "execution_count": null,
   "metadata": {},
   "outputs": [],
   "source": [
    "map3 = ipyleaflet.Map(\n",
    "    zoom=4,\n",
    "    layout={'height':'400px', 'width': '800px'}\n",
    ")\n",
    "display(ipywidgets.HBox([map3, ndvi_legend]))"
   ]
  },
  {
   "cell_type": "code",
   "execution_count": null,
   "metadata": {},
   "outputs": [],
   "source": [
    "map3.add_layer(\n",
    "    ipyleaflet.TileLayer(\n",
    "        url=GetTileLayerUrl(\n",
    "            l8sr.filterDate('2014-01-01', '2014-10-01')\n",
    "                    .max()\n",
    "                    .sldStyle(sld_ndvi)\n",
    "        )\n",
    "    )\n",
    ")"
   ]
  },
  {
   "cell_type": "markdown",
   "metadata": {},
   "source": [
    "# Time Series"
   ]
  },
  {
   "cell_type": "code",
   "execution_count": null,
   "metadata": {},
   "outputs": [],
   "source": [
    "def GetDataFrame(coords):\n",
    "    \n",
    "    pnt = ee.Geometry.Point(coords)\n",
    "    # Sample for a time series of values at the point.\n",
    "    geom_values = l8sr.filterBounds(pnt).select('ndvi').getRegion(geometry=pnt, scale=30)\n",
    "    geom_values_list = ee.List(geom_values).getInfo()\n",
    "    # Convert to a Pandas DataFrame.\n",
    "    header = geom_values_list[0]\n",
    "    data = pd.DataFrame(geom_values_list[1:], columns=header)\n",
    "    data['datetime'] = pd.to_datetime(data['time'], unit='ms', utc=True)\n",
    "    data.set_index('time')\n",
    "    data = data.sort_values('datetime')\n",
    "    data = data[['datetime', 'ndvi']]\n",
    "    return data\n"
   ]
  },
  {
   "cell_type": "code",
   "execution_count": null,
   "metadata": {},
   "outputs": [],
   "source": [
    "# Plot scales.\n",
    "lc1_x = bqplot.DateScale(min=datetime.date(2013, 2, 1), max=datetime.date(2018, 1, 1))\n",
    "lc2_y = bqplot.LinearScale()\n",
    "\n",
    "# Plot type (mark).\n",
    "lc2 = bqplot.Lines(\n",
    "    x=[],\n",
    "    y=[],\n",
    "    scales={'x': lc1_x, 'y': lc2_y}, \n",
    "    display_legend=True,\n",
    ")\n",
    "\n",
    "# Plot axes.\n",
    "x_ax1 = bqplot.Axis(label='Date', scale=lc1_x, num_ticks = 6, tick_format='%Y-%b')\n",
    "x_ay2 = bqplot.Axis(label='NDVI', scale=lc2_y, orientation='vertical')\n",
    "\n",
    "# Declare the plot interactions.\n",
    "br_intsel = bqplot.interacts.BrushIntervalSelector(scale=lc1_x, marks=[lc2])\n",
    "\n",
    "# Create a figure.\n",
    "fig = bqplot.Figure(\n",
    "    marks=[lc2],\n",
    "    axes=[x_ax1, x_ay2],\n",
    "    layout={'height':'250px', 'width':'800px'},\n",
    "    interaction=br_intsel\n",
    ")\n",
    "\n",
    "# Create a map widget with a drawing control.\n",
    "map5 = ipyleaflet.Map(zoom=2, layout={'height':'270px', 'width':'800px'})\n",
    "dc = ipyleaflet.DrawControl(polyline={}, polygon={})\n",
    "map5.add_control(dc)\n",
    "\n",
    "int_start_dp = ipywidgets.DatePicker(\n",
    "    description='Start Date',\n",
    "    disabled=True\n",
    ")\n",
    "int_end_dp = ipywidgets.DatePicker(\n",
    "    description='End Date',\n",
    "    disabled=True\n",
    ")\n",
    "\n",
    "# Create the event handlers for the map and plot.\n",
    "def handle_draw(self, action, geo_json):\n",
    "    # Get the selected coordinates from the map's drawing control.\n",
    "    coords = geo_json['geometry']['coordinates']    \n",
    "    new_df = GetDataFrame(coords)\n",
    "    lc2.x = new_df['datetime']\n",
    "    lc2.y = new_df['ndvi']\n",
    "dc.on_draw(handle_draw)\n",
    "\n",
    "def brush_selection_callback(change):\n",
    "    (t1_start, t1_end) = change.new\n",
    "    start_datetime = dateutil.parser.parse(t1_start)\n",
    "    end_datetime = dateutil.parser.parse(t1_end)\n",
    "    int_start_dp.value = start_datetime\n",
    "    int_end_dp.value = end_datetime\n",
    "    \n",
    "    # Update the layer displayed on the map.\n",
    "    filtered = (\n",
    "        l8sr.filterDate(start_datetime.isoformat(), end_datetime.isoformat())\n",
    "            .max()\n",
    "            .sldStyle(sld_ndvi)\n",
    "    )\n",
    "    ReplaceOverlayLayers(map5, filtered)    \n",
    "br_intsel.observe(brush_selection_callback, names=['selected'])\n",
    "\n",
    "# Display the widgets.\n",
    "space_time_viewer = ipywidgets.VBox(\n",
    "    [\n",
    "        ipywidgets.HBox([map5, ndvi_legend]),\n",
    "        ipywidgets.HBox([\n",
    "            fig, \n",
    "            #ipywidgets.VBox([\n",
    "                #ipywidgets.HTML('Selected Dates:'),\n",
    "                #int_start_dp,\n",
    "                #int_end_dp\n",
    "            #])\n",
    "        ], layout=ipywidgets.Layout(align_content='center'))\n",
    "    ],\n",
    "    align_self='stretch'\n",
    ")\n"
   ]
  },
  {
   "cell_type": "code",
   "execution_count": null,
   "metadata": {},
   "outputs": [],
   "source": [
    "space_time_viewer"
   ]
  },
  {
   "cell_type": "code",
   "execution_count": null,
   "metadata": {},
   "outputs": [],
   "source": []
  }
 ],
 "metadata": {
  "kernelspec": {
   "display_name": "Python 3",
   "language": "python",
   "name": "python3"
  },
  "language_info": {
   "codemirror_mode": {
    "name": "ipython",
    "version": 3
   },
   "file_extension": ".py",
   "mimetype": "text/x-python",
   "name": "python",
   "nbconvert_exporter": "python",
   "pygments_lexer": "ipython3",
   "version": "3.6.3"
  }
 },
 "nbformat": 4,
 "nbformat_minor": 2
}
