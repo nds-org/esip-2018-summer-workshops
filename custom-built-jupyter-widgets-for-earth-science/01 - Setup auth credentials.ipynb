{
 "cells": [
  {
   "cell_type": "markdown",
   "metadata": {},
   "source": [
    "# Obtain and store authentication credentials\n",
    "\n",
    "The Earth Engine backend authenticates requests using OAuth2. To establish OAuth2 credentials for the server running this notebook, we will:\n",
    "\n",
    "1. Open up a browser tab that initiates the OAuth2 authentication process.\n",
    "2. Choose an account to use for authentication. Choose an account that has previosly been whitelisted to access  Earth Engine.\n",
    "3. Grant the Google Earth Engine Python Authenticator permission to access your Google Account.\n",
    "4. Copy the OAuth2 code and paste it below."
   ]
  },
  {
   "cell_type": "code",
   "execution_count": null,
   "metadata": {},
   "outputs": [],
   "source": [
    "import ee\n",
    "import ipywidgets\n",
    "\n",
    "ipywidgets.HTML(\n",
    "    '<a href=\"{url}\" target=\"auth\">Open OAuth2 Page</a><br/>'.format(\n",
    "        url=ee.oauth.get_authorization_url()\n",
    "    )\n",
    ")"
   ]
  },
  {
   "cell_type": "markdown",
   "metadata": {},
   "source": [
    "Paste the OAuth2 code that you receive in the code below and run the cell."
   ]
  },
  {
   "cell_type": "code",
   "execution_count": null,
   "metadata": {},
   "outputs": [],
   "source": [
    "code = 'REPLACE-THIS-WITH-YOUR-ONE-TIME-USE-AUTH-CODE'\n",
    "\n",
    "try:\n",
    "    token = ee.oauth.request_token(code)\n",
    "    ee.oauth.write_token(token)\n",
    "    print('Successfully saved authorization token.')\n",
    "except Exception as e:\n",
    "    print(e)"
   ]
  },
  {
   "cell_type": "markdown",
   "metadata": {},
   "source": [
    "# Test that the server is authenticated\n",
    "\n",
    "Try to initialize the Earth Engine Python module. If it initializes successfully, it does not return any output."
   ]
  },
  {
   "cell_type": "code",
   "execution_count": null,
   "metadata": {},
   "outputs": [],
   "source": [
    "ee.Initialize()"
   ]
  },
  {
   "cell_type": "markdown",
   "metadata": {},
   "source": [
    "Finally, test out retrieving some results from the Earth Engine backend servers."
   ]
  },
  {
   "cell_type": "code",
   "execution_count": null,
   "metadata": {},
   "outputs": [],
   "source": [
    "# Code to display an Earth Engine generated image.# Code  \n",
    "from IPython.display import Image\n",
    "\n",
    "url = ee.Image(\"CGIAR/SRTM90_V4\").getThumbUrl({'min':0, 'max':3000})\n",
    "Image(url=url)"
   ]
  },
  {
   "cell_type": "code",
   "execution_count": null,
   "metadata": {},
   "outputs": [],
   "source": []
  }
 ],
 "metadata": {
  "kernelspec": {
   "display_name": "Python [default]",
   "language": "python",
   "name": "python3"
  },
  "language_info": {
   "codemirror_mode": {
    "name": "ipython",
    "version": 3
   },
   "file_extension": ".py",
   "mimetype": "text/x-python",
   "name": "python",
   "nbconvert_exporter": "python",
   "pygments_lexer": "ipython3",
   "version": "3.6.5"
  }
 },
 "nbformat": 4,
 "nbformat_minor": 2
}
